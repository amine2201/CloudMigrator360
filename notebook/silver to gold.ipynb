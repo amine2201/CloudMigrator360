{
 "cells": [
  {
   "cell_type": "code",
   "execution_count": null,
   "metadata": {},
   "outputs": [],
   "source": [
    "dbutils.fs.ls(\"/mnt/silver/SalesLT\")"
   ]
  },
  {
   "cell_type": "code",
   "execution_count": null,
   "metadata": {},
   "outputs": [],
   "source": [
    "dbutils.fs.ls(\"/mnt/gold\")"
   ]
  },
  {
   "cell_type": "code",
   "execution_count": null,
   "metadata": {},
   "outputs": [],
   "source": [
    "table_name = []\n",
    "for i in dbutils.fs.ls(\"/mnt/silver/SalesLT\"):\n",
    "  table_name.append(i.name.split(\"/\")[0])"
   ]
  },
  {
   "cell_type": "code",
   "execution_count": null,
   "metadata": {},
   "outputs": [],
   "source": [
    "table_name"
   ]
  },
  {
   "cell_type": "code",
   "execution_count": null,
   "metadata": {},
   "outputs": [],
   "source": [
    "for name in table_name:\n",
    "    path = \"/mnt/silver/SalesLT/\" + name\n",
    "    print(path)\n",
    "    df = spark.read.format(\"delta\").load(path)\n",
    "\n",
    "    #Get the list of column names\n",
    "\n",
    "    column_names = df.columns\n",
    "    for old_column_names in column_names:\n",
    "        new_column_names = \"\".join([\"_\"+char if char.isupper() and not old_column_names[i-1].isupper() else char for i,char in enumerate(old_column_names)]).lstrip(\"_\")\n",
    "\n",
    "        #Rename the columns\n",
    "        df = df.withColumnRenamed(old_column_names, new_column_names)\n",
    "\n",
    "    output_path = \"/mnt/gold/SalesLT/\" + name+'/'\n",
    "    df.write.format(\"delta\").mode(\"overwrite\").save(output_path)"
   ]
  },
  {
   "cell_type": "code",
   "execution_count": null,
   "metadata": {},
   "outputs": [],
   "source": [
    "display(df)"
   ]
  }
 ],
 "metadata": {
  "language_info": {
   "name": "python"
  }
 },
 "nbformat": 4,
 "nbformat_minor": 2
}
